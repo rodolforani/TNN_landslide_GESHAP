{
 "cells": [
  {
   "cell_type": "code",
   "execution_count": 1,
   "metadata": {},
   "outputs": [],
   "source": [
    "%load_ext autoreload\n",
    "import tensorflow as tf\n",
    "import json\n",
    "import numpy as np\n",
    "import seaborn as sns\n",
    "from src import preparedata\n",
    "from src import transformermodel\n",
    "from src import traintransformer\n",
    "import matplotlib.pyplot as plt\n",
    "\n",
    "import sklearn.metrics\n",
    "import matplotlib.pyplot as plt\n",
    "import seaborn as sns\n"
   ]
  },
  {
   "cell_type": "code",
   "execution_count": 6,
   "metadata": {},
   "outputs": [
    {
     "name": "stdout",
     "output_type": "stream",
     "text": [
      "Mean per column (shape): (31,)\n",
      "[3.37377567e-01 3.56235749e-06 9.91227657e-01 2.24726433e+00\n",
      " 6.88662964e-01 2.83613458e-02 3.84363547e-01 4.77288135e+00\n",
      " 2.28409226e+00 2.24211400e-02 2.58218508e-03 4.93846793e-03\n",
      " 6.32293834e-02 6.24560288e-03 2.89504466e+01 5.53486080e+01\n",
      " 6.13873430e+00 1.77681776e-02 3.66009223e-03 2.18470647e-03\n",
      " 7.85163740e-02 2.70172285e-01 4.76005854e+00 2.81624643e+01\n",
      " 3.46659737e+00 5.49580121e+00 1.00167371e+01 1.35190149e+01\n",
      " 2.41176557e-01 5.84255289e+01 2.96733512e+01]\n",
      "Overall mean: 5.817267754268974\n",
      "Relevant columns (shape): (31,)\n",
      "[False False False False False False False False False False False False\n",
      " False False  True  True  True False False False False False False  True\n",
      " False False  True  True False  True  True]\n"
     ]
    }
   ],
   "source": [
    "params = json.load(open(\"params/params.json\", \"r\"))\n",
    "dataset = preparedata.readTransformerData(params[\"dataprepinargs\"])\n",
    "dataset.preparedata()"
   ]
  },
  {
   "cell_type": "code",
   "execution_count": 7,
   "metadata": {},
   "outputs": [
    {
     "name": "stdout",
     "output_type": "stream",
     "text": [
      "(62408, 31, 1) (62408, 32)\n"
     ]
    }
   ],
   "source": [
    "print(dataset.Xt_train.shape, dataset.Xc_train.shape)"
   ]
  },
  {
   "cell_type": "code",
   "execution_count": null,
   "metadata": {},
   "outputs": [],
   "source": [
    "landslidehazard = transformermodel.lsmodel(params[\"modelparam\"])\n",
    "landslidehazard.preparemodel()\n",
    "\n",
    "landslidehazard.model.summary()"
   ]
  },
  {
   "cell_type": "code",
   "execution_count": null,
   "metadata": {},
   "outputs": [],
   "source": [
    "traintransformer.trainmodel(\n",
    "    landslidehazard.model,\n",
    "    [dataset.Xt_train, np.nan_to_num(dataset.Xc_train, 0)],\n",
    "    dataset.Y_train,\n",
    "    params[\"trainparam\"],\n",
    ")"
   ]
  },
  {
   "cell_type": "code",
   "execution_count": null,
   "metadata": {},
   "outputs": [],
   "source": [
    "# Predict on training set\n",
    "train_preds = landslidehazard.model.predict([dataset.Xt_train, np.nan_to_num(dataset.Xc_train, 0)])\n",
    "train_fpr, train_tpr, train_thresholds = sklearn.metrics.roc_curve(dataset.Y_train, train_preds)\n",
    "train_auc = sklearn.metrics.auc(train_fpr, train_tpr)\n",
    "print(f\"Train AUC = {train_auc}\")\n",
    "\n",
    "train_preds2 = np.where(train_preds > 0.50, 1, 0)\n",
    "\n",
    "# Calculate metrics for training set\n",
    "train_rec = sklearn.metrics.recall_score(dataset.Y_train, train_preds2)\n",
    "train_acc = sklearn.metrics.accuracy_score(dataset.Y_train, train_preds2)\n",
    "train_f1 = sklearn.metrics.f1_score(dataset.Y_train, train_preds2)\n",
    "train_f2 = sklearn.metrics.fbeta_score(dataset.Y_train, train_preds2, beta=2)\n",
    "train_mcc = sklearn.metrics.matthews_corrcoef(dataset.Y_train, train_preds2)\n",
    "train_k = sklearn.metrics.cohen_kappa_score(dataset.Y_train, train_preds2)\n",
    "\n",
    "print(f\"Train Recall = {train_rec}\")\n",
    "print(f\"Train ACC = {train_acc}\")\n",
    "print(f\"Train F1 = {train_f1}\")\n",
    "print(f\"Train F2 = {train_f2}\")\n",
    "print(f\"Train MCC = {train_mcc}\")\n",
    "print(f\"Train K = {train_k}\")\n",
    "\n",
    "# Print confusion matrices for both training and testing sets\n",
    "print(\"Training Confusion Matrix:\")\n",
    "print(sklearn.metrics.confusion_matrix(dataset.Y_train, train_preds2))\n",
    "\n",
    "# Predict on testing set\n",
    "test_preds = landslidehazard.model.predict([dataset.Xt_test, np.nan_to_num(dataset.Xc_test, 0)])\n",
    "test_fpr, test_tpr, test_thresholds = sklearn.metrics.roc_curve(dataset.Y_test, test_preds)\n",
    "test_auc = sklearn.metrics.auc(test_fpr, test_tpr)\n",
    "print(f\"Test AUC = {test_auc}\")\n",
    "\n",
    "test_preds2 = np.where(test_preds > 0.50, 1, 0)\n",
    "\n",
    "# Calculate metrics for testing set\n",
    "test_rec = sklearn.metrics.recall_score(dataset.Y_test, test_preds2)\n",
    "test_acc = sklearn.metrics.accuracy_score(dataset.Y_test, test_preds2)\n",
    "test_f1 = sklearn.metrics.f1_score(dataset.Y_test, test_preds2)\n",
    "test_f2 = sklearn.metrics.fbeta_score(dataset.Y_test, test_preds2, beta=2)\n",
    "test_mcc = sklearn.metrics.matthews_corrcoef(dataset.Y_test, test_preds2)\n",
    "test_k = sklearn.metrics.cohen_kappa_score(dataset.Y_test, test_preds2)\n",
    "\n",
    "print(f\"Test Recall = {test_rec}\")\n",
    "print(f\"Test ACC = {test_acc}\")\n",
    "print(f\"Test F1 = {test_f1}\")\n",
    "print(f\"Test F2 = {test_f2}\")\n",
    "print(f\"Test MCC = {test_mcc}\")\n",
    "print(f\"Test K = {test_k}\")\n",
    "\n",
    "print(\"Testing Confusion Matrix:\")\n",
    "print(sklearn.metrics.confusion_matrix(dataset.Y_test, test_preds2))\n",
    "\n",
    "# Plot ROC curve for training set\n",
    "plt.figure()\n",
    "lw = 2\n",
    "plt.plot(\n",
    "    train_fpr,\n",
    "    train_tpr,\n",
    "    color=\"blue\",\n",
    "    lw=lw,\n",
    "    label=\"Train ROC curve (area = %0.3f)\" % train_auc,\n",
    ")\n",
    "plt.plot([0, 1], [0, 1], color=\"navy\", lw=lw, linestyle=\"--\")\n",
    "plt.xlim([0.0, 1.0])\n",
    "plt.ylim([0.0, 1.05])\n",
    "plt.xlabel(\"False Positive Rate\")\n",
    "plt.ylabel(\"True Positive Rate\")\n",
    "plt.title(\"ROC Curve for Training Set\")\n",
    "plt.legend(loc=\"lower right\")\n",
    "plt.show()\n",
    "\n",
    "# Plot ROC curve for testing set\n",
    "plt.figure()\n",
    "lw = 2\n",
    "plt.plot(\n",
    "    test_fpr,\n",
    "    test_tpr,\n",
    "    color=\"darkorange\",\n",
    "    lw=lw,\n",
    "    label=\"Test ROC curve (area = %0.3f)\" % test_auc,\n",
    ")\n",
    "plt.plot([0, 1], [0, 1], color=\"navy\", lw=lw, linestyle=\"--\")\n",
    "plt.xlim([0.0, 1.0])\n",
    "plt.ylim([0.0, 1.05])\n",
    "plt.xlabel(\"False Positive Rate\")\n",
    "plt.ylabel(\"True Positive Rate\")\n",
    "plt.title(\"ROC Curve for Testing Set\")\n",
    "plt.legend(loc=\"lower right\")\n",
    "plt.savefig(\"roc_test.pdf\")\n",
    "plt.show()"
   ]
  },
  {
   "cell_type": "code",
   "execution_count": null,
   "metadata": {},
   "outputs": [],
   "source": [
    "# # Save the current model\n",
    "model_save_path = \"checkpoints/DS_daily_75.keras\"\n",
    "landslidehazard.model.save(model_save_path)\n",
    "print(f\"Model saved to {model_save_path}\")"
   ]
  }
 ],
 "metadata": {
  "kernelspec": {
   "display_name": "twente_old_tf",
   "language": "python",
   "name": "python3"
  },
  "language_info": {
   "codemirror_mode": {
    "name": "ipython",
    "version": 3
   },
   "file_extension": ".py",
   "mimetype": "text/x-python",
   "name": "python",
   "nbconvert_exporter": "python",
   "pygments_lexer": "ipython3",
   "version": "3.9.19"
  }
 },
 "nbformat": 4,
 "nbformat_minor": 4
}
